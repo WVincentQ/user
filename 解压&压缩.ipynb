#解压
    "import zipfile\n",
    "file_dir = 'coco2017_voc.zip'#压缩包路径\n",
    "zipFile = zipfile.ZipFile(file_dir)\n",
    "for file in zipFile.namelist():\n",
    "  zipFile.extract(file,'.')#解压到的文件路径\n",
    "zipFile.close()"


 #压缩
    "import os\n",
    "import zipfile\n",
    "\n",
    "def make_zip(localPath, pname):\n",
    "\n",
    "    zipf = zipfile.ZipFile(pname, 'w',zipfile.ZIP_DEFLATED)\n",
    "    pre_len = len(os.path.dirname(localPath))\n",
    "    for parent, dirnames, filenames in os.walk(localPath):\n",
    "        for filename in filenames:\n",
    "            pathfile = os.path.join(parent, filename)\n",
    "            arcname = pathfile[pre_len:].strip(os.path.sep)\n",
    "            zipf.write(pathfile, arcname)\n",
    "    zipf.close()\n",
    "\n",
    "if __name__ == \"__main__\":\n",
    "    path = \"logs\"\n",
    "    print \"start zip\"\n",
    "    make_zip(path,\"VOC2007.zip\")"
